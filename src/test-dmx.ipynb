{
 "cells": [
  {
   "cell_type": "code",
   "execution_count": 176,
   "metadata": {},
   "outputs": [],
   "source": [
    "from typing_extensions import TYPE_CHECKING  # type: ignore\n",
    "\n",
    "if TYPE_CHECKING:\n",
    "    from rp2.asm_pio import *"
   ]
  },
  {
   "cell_type": "code",
   "execution_count": 177,
   "metadata": {},
   "outputs": [
    {
     "name": "stdout",
     "output_type": "stream",
     "text": [
      "True\n"
     ]
    }
   ],
   "source": [
    "# %%micropython --reset\n",
    "from rp2 import PIO\n",
    "\n",
    "# remove all programs from both PIOs\n",
    "for n in (0, 1):\n",
    "    pio = PIO(n)\n",
    "    pio.remove_program()"
   ]
  },
  {
   "cell_type": "code",
   "execution_count": 178,
   "metadata": {},
   "outputs": [],
   "source": [
    "# %%micropython\n",
    "from machine import Pin, Signal\n",
    "\n",
    "sig_dmx_send = Signal(Pin(13, Pin.OUT, Pin.PULL_DOWN))\n",
    "\n",
    "sig_dmx_send.off()"
   ]
  },
  {
   "cell_type": "code",
   "execution_count": 179,
   "metadata": {},
   "outputs": [],
   "source": [
    "# %%micropython\n",
    "# Example using PIO to create a UART TX interface\n",
    "\n",
    "from machine import Pin, Signal\n",
    "from rp2 import PIO, StateMachine, asm_pio\n",
    "\n",
    "# -----------------------------------------------\n",
    "# Wiring schema for the DMX TX\n",
    "p1 = Pin(1, Pin.OUT, value=0)  \n",
    "pin_dmx_tx = Pin(15, Pin.OUT)\n",
    "pin_dmx_rx = Pin(14, Pin.IN, pull=Pin.PULL_DOWN)\n",
    "sig_dmx_send = Signal(Pin(13, Pin.OUT, Pin.PULL_DOWN))\n",
    "\n",
    "# sig_dmx_send.on()\n",
    "\n",
    "\n",
    "# Minimum universe length is ~5 channels / slots\n",
    "\n",
    "\n",
    "@asm_pio(\n",
    "    set_init=PIO.OUT_LOW,\n",
    "    sideset_init=PIO.OUT_LOW,\n",
    "    out_init=PIO.OUT_LOW,\n",
    "    # autopull=True,  # ?\n",
    "    out_shiftdir=PIO.SHIFT_RIGHT,  # ?\n",
    "    push_thresh=8,\n",
    ")\n",
    "# fmt: off\n",
    "def dmx_send():\n",
    "    BREAK_LOOPS = 23\n",
    "    # Assert break condition\n",
    "    # Sender DMX break signal is 92us >, so we need to loop at least 92 / 8 = 12 times\n",
    "    # TODO: Actually should be at least 92us\n",
    "    set(x, 21)      .side(0)                # BREAK condition for 176us\n",
    "\n",
    "    label(\"breakloop\")                      # Loop X times, each loop iteration is 8 cycles.\n",
    "    jmp(x_dec, \"breakloop\")             [7] # Each loop iteration is 8 cycles.\n",
    "\n",
    "    nop()                    .side(1)   [7] # Assert MAB. 8 cycles nop and 8 cycles stop-bits = 16us\n",
    "\n",
    "    # Send data frame\n",
    "    wrap_target()\n",
    "    \n",
    "    pull()                   .side(1)   [7] # 2 STOP bits,  1 + 7 clocks,   or stall with line in idle state (extending MAB) \n",
    "    set(x, 7)                .side(0)   [3] # 1 START BIT  1 + 4 clocks load bit counter, assert start bit for 4 clocks\n",
    "\n",
    "    label(\"bitloop\")\n",
    "    out(pins, 1)                        [2]  # Shift 1 bit from OSR to the first OUT pin\n",
    "    jmp(x_dec, \"bitloop\")    .side(0)        # Each loop iteration is 4 cycles.\n",
    "\n",
    "    wrap()\n",
    "# fmt: on\n",
    "\n",
    "\n",
    "# Usage example\n",
    "sm_dmx_tx = StateMachine(\n",
    "    1,\n",
    "    dmx_send,\n",
    "    freq=1_000_000,\n",
    "    set_base=pin_dmx_tx,\n",
    "    out_base=pin_dmx_tx,\n",
    "    sideset_base=pin_dmx_tx,\n",
    ")\n",
    "sm_dmx_tx.active(1)"
   ]
  },
  {
   "cell_type": "code",
   "execution_count": 180,
   "metadata": {},
   "outputs": [],
   "source": [
    "# start capture\n",
    "# setup logic capture\n",
    "from saleae import automation\n",
    "\n",
    "manager = automation.Manager.connect()\n",
    "# setup logic capture on all channels\n",
    "device_configuration = automation.LogicDeviceConfiguration(\n",
    "    enabled_digital_channels=[0, 1, 2, 3, 4, 5, 6, 7],\n",
    "    digital_sample_rate=12_000_000,\n",
    ")\n",
    "capture = manager.start_capture(device_configuration=device_configuration)"
   ]
  },
  {
   "cell_type": "code",
   "execution_count": 181,
   "metadata": {},
   "outputs": [],
   "source": [
    "# %%micropython\n",
    "p1.on()\n",
    "import time\n",
    "size = 512\n",
    "from array import array\n",
    "\n",
    "universe = array(\"B\", [0] + [255] * (size))  # 1 start code + 512 channels\n",
    "\n",
    "# print(f\"{len(universe)=} {universe=}\")\n",
    "\n",
    "for i in range(len(universe)):\n",
    "    universe[i] = i % 256\n",
    "\n",
    "universe[0] = 123 # test Start Code\n",
    "\n",
    "for n in range(2):\n",
    "    sig_dmx_send.on()\n",
    "    sm_dmx_tx.restart()\n",
    "    sm_dmx_tx.active(1)\n",
    "    if sm_dmx_tx.tx_fifo():\n",
    "        print(\"TX FIFO not empty before put\")\n",
    "    sm_dmx_tx.put(universe)\n",
    "    sig_dmx_send.off()\n",
    "    time.sleep(0.1)\n",
    "\n",
    "p1.off()"
   ]
  },
  {
   "cell_type": "code",
   "execution_count": 182,
   "metadata": {},
   "outputs": [
    {
     "ename": "InternalServerError",
     "evalue": "Analyzer not initialized",
     "output_type": "error",
     "traceback": [
      "\u001b[1;31m---------------------------------------------------------------------------\u001b[0m",
      "\u001b[1;31mInternalServerError\u001b[0m                       Traceback (most recent call last)",
      "\u001b[1;32md:\\MyPython\\MicroPicoDMX\\src\\test-dmx.ipynb Cell 7\u001b[0m line \u001b[0;36m1\n\u001b[0;32m      <a href='vscode-notebook-cell:/d%3A/MyPython/MicroPicoDMX/src/test-dmx.ipynb#W5sZmlsZQ%3D%3D?line=4'>5</a>\u001b[0m capture\u001b[39m.\u001b[39madd_analyzer(\u001b[39m\"\u001b[39m\u001b[39mDMX-512\u001b[39m\u001b[39m\"\u001b[39m, settings\u001b[39m=\u001b[39m{\u001b[39m\"\u001b[39m\u001b[39mSerial\u001b[39m\u001b[39m\"\u001b[39m: \u001b[39m5\u001b[39m, \u001b[39m\"\u001b[39m\u001b[39mAccept DMX-1986 4us MAB\u001b[39m\u001b[39m\"\u001b[39m: \u001b[39mTrue\u001b[39;00m})\n\u001b[0;32m      <a href='vscode-notebook-cell:/d%3A/MyPython/MicroPicoDMX/src/test-dmx.ipynb#W5sZmlsZQ%3D%3D?line=5'>6</a>\u001b[0m \u001b[39m# capture.add_analyzer(\u001b[39;00m\n\u001b[0;32m      <a href='vscode-notebook-cell:/d%3A/MyPython/MicroPicoDMX/src/test-dmx.ipynb#W5sZmlsZQ%3D%3D?line=6'>7</a>\u001b[0m \u001b[39m#     \"DMX-512\", settings={\"Serial\": 3, \"Accept DMX-1986 4us MAB\": True}, label=\"Tx-Shifter\"\u001b[39;00m\n\u001b[0;32m      <a href='vscode-notebook-cell:/d%3A/MyPython/MicroPicoDMX/src/test-dmx.ipynb#W5sZmlsZQ%3D%3D?line=7'>8</a>\u001b[0m \u001b[39m# )\u001b[39;00m\n\u001b[0;32m      <a href='vscode-notebook-cell:/d%3A/MyPython/MicroPicoDMX/src/test-dmx.ipynb#W5sZmlsZQ%3D%3D?line=8'>9</a>\u001b[0m \u001b[39m# capture.add_analyzer(\u001b[39;00m\n\u001b[0;32m     <a href='vscode-notebook-cell:/d%3A/MyPython/MicroPicoDMX/src/test-dmx.ipynb#W5sZmlsZQ%3D%3D?line=9'>10</a>\u001b[0m \u001b[39m#     \"DMX-512\", settings={\"Serial\": 6, \"Accept DMX-1986 4us MAB\": True}, label=\"Tx-Shifter-2\"\u001b[39;00m\n\u001b[0;32m     <a href='vscode-notebook-cell:/d%3A/MyPython/MicroPicoDMX/src/test-dmx.ipynb#W5sZmlsZQ%3D%3D?line=10'>11</a>\u001b[0m \u001b[39m# )\u001b[39;00m\n\u001b[1;32m---> <a href='vscode-notebook-cell:/d%3A/MyPython/MicroPicoDMX/src/test-dmx.ipynb#W5sZmlsZQ%3D%3D?line=11'>12</a>\u001b[0m capture\u001b[39m.\u001b[39;49madd_analyzer(\u001b[39m\"\u001b[39;49m\u001b[39mDMX-512-RX\u001b[39;49m\u001b[39m\"\u001b[39;49m, settings\u001b[39m=\u001b[39;49m{\u001b[39m\"\u001b[39;49m\u001b[39mSerial\u001b[39;49m\u001b[39m\"\u001b[39;49m: \u001b[39m4\u001b[39;49m, \u001b[39m\"\u001b[39;49m\u001b[39mAccept DMX-1986 4us MAB\u001b[39;49m\u001b[39m\"\u001b[39;49m: \u001b[39mTrue\u001b[39;49;00m})\n\u001b[0;32m     <a href='vscode-notebook-cell:/d%3A/MyPython/MicroPicoDMX/src/test-dmx.ipynb#W5sZmlsZQ%3D%3D?line=12'>13</a>\u001b[0m \u001b[39m# \"Input Channel\", \"Bit Rate (Bits/s)\", \"Bits per Frame\", \"Stop Bits\", \"Parity Bit\", \"Significant Bit\", \"Signal inversion\", \"Mode\"\u001b[39;00m\n\u001b[0;32m     <a href='vscode-notebook-cell:/d%3A/MyPython/MicroPicoDMX/src/test-dmx.ipynb#W5sZmlsZQ%3D%3D?line=13'>14</a>\u001b[0m \u001b[39m# capture.add_analyzer(\"Async Serial\", settings={\"Input Channel\": 6, \"Bit Rate (Bits/s)\": 115200})\u001b[39;00m\n",
      "File \u001b[1;32md:\\MyPython\\MicroPicoDMX\\.venv\\Lib\\site-packages\\saleae\\automation\\capture.py:101\u001b[0m, in \u001b[0;36mCapture.add_analyzer\u001b[1;34m(self, name, label, settings)\u001b[0m\n\u001b[0;32m     92\u001b[0m         analyzer_settings[key] \u001b[39m=\u001b[39m v\n\u001b[0;32m     94\u001b[0m request \u001b[39m=\u001b[39m saleae_pb2\u001b[39m.\u001b[39mAddAnalyzerRequest(\n\u001b[0;32m     95\u001b[0m     capture_id\u001b[39m=\u001b[39m\u001b[39mself\u001b[39m\u001b[39m.\u001b[39mcapture_id,\n\u001b[0;32m     96\u001b[0m     analyzer_name\u001b[39m=\u001b[39mname,\n\u001b[0;32m     97\u001b[0m     analyzer_label\u001b[39m=\u001b[39mlabel,\n\u001b[0;32m     98\u001b[0m     settings\u001b[39m=\u001b[39manalyzer_settings,\n\u001b[0;32m     99\u001b[0m )\n\u001b[1;32m--> 101\u001b[0m \u001b[39mwith\u001b[39;49;00m _error_handler():\n\u001b[0;32m    102\u001b[0m     reply \u001b[39m=\u001b[39;49m \u001b[39mself\u001b[39;49m\u001b[39m.\u001b[39;49mmanager\u001b[39m.\u001b[39;49mstub\u001b[39m.\u001b[39;49mAddAnalyzer(request)\n\u001b[0;32m    104\u001b[0m \u001b[39mreturn\u001b[39;00m AnalyzerHandle(analyzer_id\u001b[39m=\u001b[39mreply\u001b[39m.\u001b[39manalyzer_id)\n",
      "File \u001b[1;32m~\\AppData\\Local\\Programs\\Python\\Python311\\Lib\\contextlib.py:155\u001b[0m, in \u001b[0;36m_GeneratorContextManager.__exit__\u001b[1;34m(self, typ, value, traceback)\u001b[0m\n\u001b[0;32m    153\u001b[0m     value \u001b[39m=\u001b[39m typ()\n\u001b[0;32m    154\u001b[0m \u001b[39mtry\u001b[39;00m:\n\u001b[1;32m--> 155\u001b[0m     \u001b[39mself\u001b[39m\u001b[39m.\u001b[39mgen\u001b[39m.\u001b[39mthrow(typ, value, traceback)\n\u001b[0;32m    156\u001b[0m \u001b[39mexcept\u001b[39;00m \u001b[39mStopIteration\u001b[39;00m \u001b[39mas\u001b[39;00m exc:\n\u001b[0;32m    157\u001b[0m     \u001b[39m# Suppress StopIteration *unless* it's the same exception that\u001b[39;00m\n\u001b[0;32m    158\u001b[0m     \u001b[39m# was passed to throw().  This prevents a StopIteration\u001b[39;00m\n\u001b[0;32m    159\u001b[0m     \u001b[39m# raised inside the \"with\" statement from being suppressed.\u001b[39;00m\n\u001b[0;32m    160\u001b[0m     \u001b[39mreturn\u001b[39;00m exc \u001b[39mis\u001b[39;00m \u001b[39mnot\u001b[39;00m value\n",
      "File \u001b[1;32md:\\MyPython\\MicroPicoDMX\\.venv\\Lib\\site-packages\\saleae\\automation\\errors.py:121\u001b[0m, in \u001b[0;36m_error_handler\u001b[1;34m()\u001b[0m\n\u001b[0;32m    119\u001b[0m     \u001b[39myield\u001b[39;00m\n\u001b[0;32m    120\u001b[0m \u001b[39mexcept\u001b[39;00m grpc\u001b[39m.\u001b[39mRpcError \u001b[39mas\u001b[39;00m exc:\n\u001b[1;32m--> 121\u001b[0m     \u001b[39mraise\u001b[39;00m grpc_error_to_exception(exc) \u001b[39mfrom\u001b[39;00m \u001b[39mNone\u001b[39;00m\n",
      "\u001b[1;31mInternalServerError\u001b[0m: Analyzer not initialized"
     ]
    }
   ],
   "source": [
    "# End capture\n",
    "capture.stop()\n",
    "# \"Serial\", \"Accept DMX-1986 4us MAB\"\n",
    "# Serial = input channel\n",
    "capture.add_analyzer(\"DMX-512\", settings={\"Serial\": 5, \"Accept DMX-1986 4us MAB\": True})\n",
    "# capture.add_analyzer(\n",
    "#     \"DMX-512\", settings={\"Serial\": 3, \"Accept DMX-1986 4us MAB\": True}, label=\"Tx-Shifter\"\n",
    "# )\n",
    "# capture.add_analyzer(\n",
    "#     \"DMX-512\", settings={\"Serial\": 6, \"Accept DMX-1986 4us MAB\": True}, label=\"Tx-Shifter-2\"\n",
    "# )\n",
    "capture.add_analyzer(\"DMX-512-RX\", settings={\"Serial\": 4, \"Accept DMX-1986 4us MAB\": True})\n",
    "# \"Input Channel\", \"Bit Rate (Bits/s)\", \"Bits per Frame\", \"Stop Bits\", \"Parity Bit\", \"Significant Bit\", \"Signal inversion\", \"Mode\"\n",
    "# capture.add_analyzer(\"Async Serial\", settings={\"Input Channel\": 6, \"Bit Rate (Bits/s)\": 115200})"
   ]
  }
 ],
 "metadata": {
  "kernelspec": {
   "display_name": ".venv",
   "language": "python",
   "name": "python3"
  },
  "language_info": {
   "codemirror_mode": {
    "name": "ipython",
    "version": 3
   },
   "file_extension": ".py",
   "mimetype": "text/x-python",
   "name": "python",
   "nbconvert_exporter": "python",
   "pygments_lexer": "ipython3",
   "version": "3.11.6"
  }
 },
 "nbformat": 4,
 "nbformat_minor": 2
}
