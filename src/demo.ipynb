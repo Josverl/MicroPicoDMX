{
 "cells": [
  {
   "cell_type": "markdown",
   "metadata": {},
   "source": [
    "Setup for send - receive test with 2 nodes\n",
    "\n",
    "- Pico on COM15 = transmitter\n",
    "- Pico-W on COM4 = receiver\n",
    "\n",
    "use micropython magig and mpremote to connect\n"
   ]
  },
  {
   "cell_type": "code",
   "execution_count": 13,
   "metadata": {},
   "outputs": [
    {
     "name": "stdout",
     "output_type": "stream",
     "text": [
      " COM4   : Raspberry Pi Pico W with RP2040\n",
      " COM15  : Raspberry Pi Pico with RP2040\n",
      "True\n",
      "True\n"
     ]
    }
   ],
   "source": [
    "devices = %mpy --list\n",
    "ports = devices.fields(0)\n",
    "\n",
    "for port in ports:\n",
    "    s = %mpy --info --select {port}\n",
    "    print(f\" {s['serial_port']:<7}: {s['board']}\")\n",
    "    \n",
    "PICO = 'COM15'\n",
    "PICO_W = 'COM4'\n",
    "\n",
    "SENDER = PICO\n",
    "RECEIVER = PICO_W\n",
    "\n",
    "%mpy --select {SENDER} --reset\n",
    "%mpy --select {RECEIVER} --reset"
   ]
  },
  {
   "cell_type": "code",
   "execution_count": 14,
   "metadata": {},
   "outputs": [],
   "source": [
    "# !mpremote connect {SENDER} cp -r . :\n",
    "# !mpremote connect {RECEIVER} cp -r . :"
   ]
  },
  {
   "cell_type": "code",
   "execution_count": 15,
   "metadata": {},
   "outputs": [
    {
     "name": "stdout",
     "output_type": "stream",
     "text": [
      "\u001b[33m\u001b[1mWARNING \u001b[0m | \u001b[36mmicropython_magic.interactive\u001b[0m:\u001b[36mtimed_out\u001b[0m:\u001b[36m121\u001b[0m - \u001b[33m\u001b[1mCommand mpremote connect COM15 resume  exec \"import send_universe\" timed out after 1.0 seconds\u001b[0m\n"
     ]
    },
    {
     "data": {
      "text/plain": [
       "['sent universe 123',\n",
       " 'sent universe 124',\n",
       " 'sent universe 125',\n",
       " 'sent universe 126',\n",
       " 'sent universe 127',\n",
       " 'sent universe 128',\n",
       " 'sent universe 129',\n",
       " 'sent universe 130',\n",
       " 'sent universe 131',\n",
       " 'sent universe 132',\n",
       " 'sent universe 133',\n",
       " 'sent universe 134',\n",
       " 'sent universe 135',\n",
       " 'sent universe 136',\n",
       " 'sent universe 137',\n",
       " 'sent universe 138',\n",
       " 'sent universe 139',\n",
       " 'sent universe 140']"
      ]
     },
     "execution_count": 15,
     "metadata": {},
     "output_type": "execute_result"
    }
   ],
   "source": [
    "%mpy --select {SENDER} --timeout 1 import send_universe"
   ]
  },
  {
   "cell_type": "code",
   "execution_count": 16,
   "metadata": {},
   "outputs": [],
   "source": [
    "# %%micropython --select {RECEIVER}\n",
    "from rp2 import PIO, StateMachine, asm_pio\n",
    "from machine import Pin\n",
    "\n",
    "led = Pin(\"LED\", Pin.OUT)\n",
    "# remove all programs from both PIOs\n",
    "for n in (0, 1):\n",
    "    pio = PIO(n)\n",
    "    led.toggle()\n",
    "    pio.remove_program()\n",
    "\n",
    "led.on()"
   ]
  },
  {
   "cell_type": "code",
   "execution_count": 17,
   "metadata": {},
   "outputs": [],
   "source": [
    "# %%micropython --select {RECEIVER}\n",
    "\n",
    "# pin_dmx_tx = Pin(15, Pin.OUT)  # send data to the DMX bus\n",
    "pin_dmx_rx = Pin(14, Pin.IN)  # receive data from the DMX bus\n",
    "max485_send = Pin(12, Pin.OUT, Pin.PULL_DOWN)  # switch send/receive for the MAX485 chip\n",
    "\n",
    "p0 = Pin(0, Pin.OUT)  # debug pin\n",
    "p1 = Pin(1, Pin.OUT)  # debug pin"
   ]
  },
  {
   "cell_type": "code",
   "execution_count": 25,
   "metadata": {},
   "outputs": [],
   "source": [
    "# %%micropython --select {RECEIVER}\n",
    "\n",
    "from typing_extensions import TYPE_CHECKING  # type: ignore\n",
    "\n",
    "if TYPE_CHECKING:\n",
    "    from rp2.asm_pio import *\n",
    "\n",
    "\n",
    "max485_send.off()\n",
    "\n",
    "\n",
    "#  from pio_dmx import dmx_receive, dmx_send\n",
    "\n",
    "# fmt: off\n",
    "@asm_pio(\n",
    "        in_shiftdir=PIO.SHIFT_RIGHT,\n",
    "        sideset_init=(PIO.OUT_LOW,PIO.OUT_LOW)\n",
    "        \n",
    ")\n",
    "def dmx_receive():\n",
    "    \"\"\"PIO program to receive a DMX Universe frame of 512 channels.\"\"\"\n",
    "    # Constants\n",
    "    dmx_bit = 4  # As DMX has a baudrate of 250.000kBaud, a single bit is 4us\n",
    "\n",
    "    # Break loop\n",
    "    # Receiver DMX break signal is 88us, so we need to loop 22 times to get 88us\n",
    "    label(\"break_reset\")\n",
    "    set(x, 22).side(0b11)                          # 0\n",
    "\n",
    "    label(\"break_loop\")                 # BREAK = low for 88us\n",
    "    jmp(pin, \"break_reset\")             # 1 | Go back to start if pin goes high during BREAK\n",
    "    jmp(x_dec, \"break_loop\")        [1] # 2 | wait until BREAK time over (22 loops * 4us = 88us)\n",
    "    \n",
    "    wait(1, pin, 0).side(0b01)                     # 3 | wait for the Mark-After-Break (MAB)\n",
    "\n",
    "    # Data loop\n",
    "    # First start bit   - no need to detect end of frame\n",
    "    label(\"byteloop\")                    # Start of a byte\n",
    "    wait(0, pin, 0)                 [1] # 4 | Wait for START bit (low) + 1+1us - measure halfway through the bit\n",
    "    # Delay [2] measures just before the middle of the first bit\n",
    "    set(x, 7)                       [3] # 5 | 7 more bit;  skip to (about) halfway first bit\n",
    "    # Delay [3] measures just after the middle of the first bit\n",
    "\n",
    "    label(\"bitloop\")\n",
    "    in_(pins, 1).side(0b10)                       # 6 Shift data bit into ISR\n",
    "    jmp(x_dec, \"bitloop\").side(0b00)           [2] # 7 Loop 8 times, each loop iteration is 4us\n",
    "\n",
    "    # Stop bits\n",
    "    wait(1, pin, 0)                     # 8 Wait for pin to go high for stop bit-1\n",
    "    nop().side(0b11)               [1]  # 9 Wait for pin to go high for stop bit-2\n",
    "    # wait(1, pin, 0)                      # 9 Wait for pin to go high for stop bit-2\n",
    "    #  in_(null, 24 )                      \n",
    "    # TODO check if STOP bits are at 8us long\n",
    "    # if longer than 8 us then we are at the end of the frame  MARK Time after Slot 512\n",
    "    # this can be up to  1 second - which may be too long for a PIO program to count\n",
    "    push().side(0b10)                           # 9\n",
    "    jmp(\"byteloop\")\n",
    "# fmt: on\n",
    "\n",
    "\n",
    "\n",
    "# create a state machine for receiving DMX data\n",
    "machine_nr = 1\n",
    "\n",
    "\n",
    "sm_dmx_rx = StateMachine(\n",
    "    machine_nr,\n",
    "    dmx_receive,\n",
    "    freq=1_000_000,\n",
    "    in_base=pin_dmx_rx,\n",
    "    jmp_pin=pin_dmx_rx,\n",
    "    sideset_base=p0,\n",
    ")\n",
    "\n",
    "\n",
    "sm_dmx_rx.active(0)\n",
    "\n",
    "\n",
    "sm_dmx_rx.restart()"
   ]
  },
  {
   "cell_type": "code",
   "execution_count": 19,
   "metadata": {},
   "outputs": [
    {
     "name": "stdout",
     "output_type": "stream",
     "text": [
      "12 opcodes assembled\n"
     ]
    },
    {
     "data": {
      "text/plain": [
       "'0xfc3d, 0xc0, 0x141, 0x34a0, 0x2120, 0xe227, 0x5801, 0x1246, 0x20a0, 0xbd42, 0x9820, 0x4'"
      ]
     },
     "execution_count": 19,
     "metadata": {},
     "output_type": "execute_result"
    }
   ],
   "source": [
    "# This is a Q&D way to get the PIO opcodes from the PIO assembler using an attached rp2 with micropython\n",
    "from array import array\n",
    "x = %mpy print(dmx_receive)\n",
    "asm_pio = eval(str(x[0])) # first line of the output is the PIO program, with parameters\n",
    "assembled = asm_pio[0] # just the opcodes \n",
    "print(f\"{len(assembled)} opcodes assembled\")\n",
    "\n",
    "\", \".join([hex(opcode) for opcode in assembled])"
   ]
  },
  {
   "cell_type": "code",
   "execution_count": 26,
   "metadata": {},
   "outputs": [
    {
     "name": "stdout",
     "output_type": "stream",
     "text": [
      "array('B', [143, 1, 2, 3, 4, 5, 6, 7, 8, 9])\n"
     ]
    }
   ],
   "source": [
    "# %%micropython --select {RECEIVER}\n",
    "import time\n",
    "\n",
    "size = 512\n",
    "from array import array\n",
    "\n",
    "universe = array(\"B\", [0] + [0] * (size))  # 1 start code + 512 channels\n",
    "\n",
    "\n",
    "# clear the fifo\n",
    "sm_dmx_rx.active(0)\n",
    "while sm_dmx_rx.rx_fifo():\n",
    "    _ = sm_dmx_rx.get()\n",
    "sm_dmx_rx.restart()\n",
    "\n",
    "sm_dmx_rx.active(1)\n",
    "sm_dmx_rx.get(universe, 24)  # get the first byte, which is the start code\n",
    "sm_dmx_rx.active(0)\n",
    "# print(f\"{r[:10]=}\")\n",
    "print(universe[:10])"
   ]
  },
  {
   "cell_type": "code",
   "execution_count": 27,
   "metadata": {},
   "outputs": [
    {
     "name": "stdout",
     "output_type": "stream",
     "text": [
      "array('B', [162, 1, 2, 3, 4, 5, 6, 7, 8, 9])\n"
     ]
    }
   ],
   "source": [
    "# %%micropython --select {RECEIVER}\n",
    "import utime\n",
    "\n",
    "\n",
    "def timed_function(f, *args, **kwargs):\n",
    "    \"enables any function or method to be timed by adding an @timed_function decorator\"\n",
    "    myname = str(f).split(\" \")[1]\n",
    "\n",
    "    def new_func(*args, **kwargs):\n",
    "        t = utime.ticks_us()\n",
    "        result = f(*args, **kwargs)\n",
    "        delta = utime.ticks_diff(utime.ticks_us(), t)\n",
    "        print(\"Function {} Time = {:6.3f}ms\".format(myname, delta / 1000))\n",
    "        return result\n",
    "\n",
    "    return new_func\n",
    "\n",
    "\n",
    "# @timed_function\n",
    "def rx_universe(universe):\n",
    "    \"\"\"\n",
    "    read a received DMX universe into a bytearray\n",
    "    Slow and careful version - on full speed will get every other DMX-Frame\n",
    "    \"\"\"\n",
    "    sm_dmx_rx.active(0)\n",
    "    # clear the fifo\n",
    "    while sm_dmx_rx.rx_fifo():\n",
    "        _ = sm_dmx_rx.get()\n",
    "    sm_dmx_rx.restart()\n",
    "    sm_dmx_rx.active(1)\n",
    "    sm_dmx_rx.get(universe, 24)  # get the first byte, which is the start code\n",
    "    sm_dmx_rx.active(0)\n",
    "    return universe\n",
    "\n",
    "\n",
    "rx_universe(universe)\n",
    "print(universe[:10])"
   ]
  },
  {
   "cell_type": "code",
   "execution_count": 33,
   "metadata": {},
   "outputs": [
    {
     "name": "stdout",
     "output_type": "stream",
     "text": [
      "sm_dmx_rx.rx_fifo()=4\n",
      "Missing frames: \n",
      "[245, 245, 245, 245, 245, 245, 245, 245, 245, 245, 245, 245, 245, 245, 245, 245, 245, 245, 245, 245, 245, 245, 245, 245, 245, 245, 245, 245, 245, 245, 245, 245, 245, 245, 245, 245, 245, 245, 245, 245, 245, 245, 245, 245, 245, 245, 245, 245, 245, 245]\n",
      "universe=array('B', [30, 1, 2, 3, 4, 5, 6, 7, 8, 9, 10, 11, 12, 13, 14, 15, 16, 17, 18, 19, 20, 21, 22, 23, 24, 25, 26, 27, 28, 29, 30, 31, 32, 33, 34, 35, 36, 37, 38, 39, 40, 41, 42, 43, 44, 45, 46, 47, 48, 49, 50, 51, 52, 53, 54, 55, 56, 57, 58, 59, 60, 61, 62, 63, 64, 65, 66, 67, 68, 69, 70, 71, 72, 73, 74, 75, 76, 77, 78, 79, 80, 81, 82, 83, 84, 85, 86, 87, 88, 89, 90, 91, 92, 93, 94, 95, 96, 97, 98, 99, 100, 101, 102, 103, 104, 105, 106, 107, 108, 109, 110, 111, 112, 113, 114, 115, 116, 117, 118, 119, 120, 121, 122, 123, 124, 125, 126, 127, 128, 129, 130, 131, 132, 133, 134, 135, 136, 137, 138, 139, 140, 141, 142, 143, 144, 145, 146, 147, 148, 149, 150, 151, 152, 153, 154, 155, 156, 157, 158, 159, 160, 161, 162, 163, 164, 165, 166, 167, 168, 169, 170, 171, 172, 173, 174, 175, 176, 177, 178, 179, 180, 181, 182, 183, 184, 185, 186, 187, 188, 189, 190, 191, 192, 193, 194, 195, 196, 197, 198, 199, 200, 201, 202, 203, 204, 205, 206, 207, 208, 209, 210, 211, 212, 213, 214, 215, 216, 217, 218, 219, 220, 221, 222, 223, 224, 225, 226, 227, 228, 229, 230, 231, 232, 233, 234, 235, 236, 237, 238, 239, 240, 241, 242, 243, 244, 245, 246, 247, 248, 249, 250, 251, 252, 253, 254, 255, 0, 1, 2, 3, 4, 5, 6, 7, 8, 9, 10, 11, 12, 13, 14, 15, 16, 17, 18, 19, 20, 21, 22, 23, 24, 25, 26, 27, 28, 29, 30, 31, 32, 33, 34, 35, 36, 37, 38, 39, 40, 41, 42, 43, 44, 45, 46, 47, 48, 49, 50, 51, 52, 53, 54, 55, 56, 57, 58, 59, 60, 61, 62, 63, 64, 65, 66, 67, 68, 69, 70, 71, 72, 73, 74, 75, 76, 77, 78, 79, 80, 81, 82, 83, 84, 85, 86, 87, 88, 89, 90, 91, 92, 93, 94, 95, 96, 97, 98, 99, 100, 101, 102, 103, 104, 105, 106, 107, 108, 109, 110, 111, 112, 113, 114, 115, 116, 117, 118, 119, 120, 121, 122, 123, 124, 125, 126, 127, 128, 129, 130, 131, 132, 133, 134, 135, 136, 137, 138, 139, 140, 141, 142, 143, 144, 145, 146, 147, 148, 149, 150, 151, 152, 153, 154, 155, 156, 157, 158, 159, 160, 161, 162, 163, 164, 165, 166, 167, 168, 169, 170, 171, 172, 173, 174, 175, 176, 177, 178, 179, 180, 181, 182, 183, 184, 185, 186, 187, 188, 189, 190, 191, 192, 193, 194, 195, 196, 197, 198, 199, 200, 201, 202, 203, 204, 205, 206, 207, 208, 209, 210, 211, 212, 213, 214, 215, 216, 217, 218, 219, 220, 221, 222, 223, 224, 225, 226, 227, 228, 229, 230, 231, 232, 233, 234, 235, 236, 237, 238, 239, 240, 241, 242, 243, 244, 245, 246, 247, 248, 249, 250, 251, 252, 253, 254, 255, 0])\n"
     ]
    }
   ],
   "source": [
    "# %%micropython --select {RECEIVER}\n",
    "led = Pin(\"LED\", Pin.OUT)\n",
    "\n",
    "\n",
    "def rx_universe(universe):\n",
    "    # sm_dmx_rx.active(0)\n",
    "    # clear the fifo\n",
    "    # print(f\"{sm_dmx_rx.rx_fifo()=}\")\n",
    "    # while sm_dmx_rx.rx_fifo():\n",
    "    #     _ = sm_dmx_rx.get()\n",
    "    sm_dmx_rx.restart()\n",
    "    sm_dmx_rx.active(1)\n",
    "    sm_dmx_rx.get(universe, 24)  # get the first byte, which is the start code\n",
    "    # led.toggle()\n",
    "    # sm_dmx_rx.active(0)\n",
    "    return universe\n",
    "\n",
    "\n",
    "# clear the fifo\n",
    "sm_dmx_rx.active(0)\n",
    "print(f\"{sm_dmx_rx.rx_fifo()=}\")\n",
    "while sm_dmx_rx.rx_fifo():\n",
    "    _ = sm_dmx_rx.get()\n",
    "\n",
    "l = []\n",
    "v = []\n",
    "for i in range(50):\n",
    "    rx_universe(universe)\n",
    "    l.append(universe[0])\n",
    "    v.append(universe[501])\n",
    "    # print(universe[:10])\n",
    "\n",
    "print(\"Missing frames:\", end=\" \")\n",
    "for i in range(1, len(l)):\n",
    "    if l[i] - l[i - 1] > 1:\n",
    "        print(l[i], end=\" \")\n",
    "print()\n",
    "\n",
    "print(v)\n",
    "print(f\"{universe=}\")\n",
    "# sm_dmx_rx.active(0)"
   ]
  },
  {
   "cell_type": "code",
   "execution_count": 31,
   "metadata": {},
   "outputs": [
    {
     "ename": "NameError",
     "evalue": "name 'l' is not defined",
     "output_type": "error",
     "traceback": [
      "\u001b[1;31m---------------------------------------------------------------------------\u001b[0m",
      "\u001b[1;31mNameError\u001b[0m                                 Traceback (most recent call last)",
      "\u001b[1;32md:\\MyPython\\MicroPicoDMX\\src\\demo.ipynb Cell 12\u001b[0m line \u001b[0;36m1\n\u001b[1;32m----> <a href='vscode-notebook-cell:/d%3A/MyPython/MicroPicoDMX/src/demo.ipynb#X15sZmlsZQ%3D%3D?line=0'>1</a>\u001b[0m \u001b[39mfor\u001b[39;00m i \u001b[39min\u001b[39;00m \u001b[39mrange\u001b[39m(\u001b[39m1\u001b[39m, \u001b[39mlen\u001b[39m(l)):\n\u001b[0;32m      <a href='vscode-notebook-cell:/d%3A/MyPython/MicroPicoDMX/src/demo.ipynb#X15sZmlsZQ%3D%3D?line=1'>2</a>\u001b[0m     \u001b[39mif\u001b[39;00m l[i] \u001b[39m-\u001b[39m l[i\u001b[39m-\u001b[39m\u001b[39m1\u001b[39m] \u001b[39m>\u001b[39m \u001b[39m1\u001b[39m:\n\u001b[0;32m      <a href='vscode-notebook-cell:/d%3A/MyPython/MicroPicoDMX/src/demo.ipynb#X15sZmlsZQ%3D%3D?line=2'>3</a>\u001b[0m         \u001b[39mprint\u001b[39m(l[i])\n",
      "\u001b[1;31mNameError\u001b[0m: name 'l' is not defined"
     ]
    }
   ],
   "source": [
    "for i in range(1, len(l)):\n",
    "    if l[i] - l[i - 1] > 1:\n",
    "        print(l[i])"
   ]
  },
  {
   "cell_type": "code",
   "execution_count": null,
   "metadata": {},
   "outputs": [],
   "source": []
  }
 ],
 "metadata": {
  "kernelspec": {
   "display_name": ".venv",
   "language": "python",
   "name": "python3"
  },
  "language_info": {
   "codemirror_mode": {
    "name": "ipython",
    "version": 3
   },
   "file_extension": ".py",
   "mimetype": "text/x-python",
   "name": "python",
   "nbconvert_exporter": "python",
   "pygments_lexer": "ipython3",
   "version": "3.11.6"
  }
 },
 "nbformat": 4,
 "nbformat_minor": 2
}
