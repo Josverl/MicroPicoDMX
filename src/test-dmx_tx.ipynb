{
 "cells": [
  {
   "cell_type": "markdown",
   "metadata": {},
   "source": [
    "## DMX Transmitter"
   ]
  },
  {
   "cell_type": "code",
   "execution_count": 1,
   "metadata": {},
   "outputs": [
    {
     "name": "stdout",
     "output_type": "stream",
     "text": [
      "{'ver': 'v1.21.0', 'version': '1.21.0', 'port': 'rp2', 'mpy': 'v6.1', 'build': '', 'cpu': 'RP2040', 'family': 'micropython', 'board': 'Raspberry Pi Pico W with RP2040', 'arch': 'armv6m', 'serial_port': 'COM4'}\n",
      "{'ver': 'v1.21.0', 'version': '1.21.0', 'port': 'rp2', 'mpy': 'v6.1', 'build': '', 'cpu': 'RP2040', 'family': 'micropython', 'board': 'Raspberry Pi Pico with RP2040', 'arch': 'armv6m', 'serial_port': 'COM15'}\n"
     ]
    }
   ],
   "source": [
    "devices = %mpy --list\n",
    "ports = devices.fields(0)\n",
    "\n",
    "for port in ports:\n",
    "    s = %mpy --info --select {port}\n",
    "    print(s)\n",
    "    \n",
    "PICO = 'COM15'\n",
    "PICO_W = 'COM4'\n",
    "\n",
    "SENDER = PICO\n",
    "RECEIVER = PICO_W\n",
    "\n",
    "%mpy --select {SENDER}"
   ]
  },
  {
   "cell_type": "code",
   "execution_count": 2,
   "metadata": {},
   "outputs": [],
   "source": [
    "from typing_extensions import TYPE_CHECKING  # type: ignore\n",
    "\n",
    "if TYPE_CHECKING:\n",
    "    from rp2.asm_pio import *"
   ]
  },
  {
   "cell_type": "code",
   "execution_count": 3,
   "metadata": {},
   "outputs": [
    {
     "name": "stdout",
     "output_type": "stream",
     "text": [
      "True\n"
     ]
    }
   ],
   "source": [
    "# %%micropython --select {SENDER} --reset\n",
    "from rp2 import PIO\n",
    "\n",
    "# remove all programs from both PIOs\n",
    "for n in (0, 1):\n",
    "    pio = PIO(n)\n",
    "    pio.remove_program()"
   ]
  },
  {
   "cell_type": "code",
   "execution_count": 4,
   "metadata": {},
   "outputs": [],
   "source": [
    "# %%micropython  --select {SENDER}\n",
    "from machine import Pin\n",
    "\n",
    "sig_max485_send = Pin(13, Pin.OUT, Pin.PULL_DOWN)\n",
    "\n",
    "sig_max485_send.on()\n",
    "x = 1\n",
    "sig_max485_send.off()"
   ]
  },
  {
   "cell_type": "code",
   "execution_count": 5,
   "metadata": {},
   "outputs": [],
   "source": [
    "# %%micropython --select {SENDER}\n",
    "# Example using PIO to create a UART TX interface\n",
    "\n",
    "from machine import Pin, Signal\n",
    "from rp2 import PIO, StateMachine, asm_pio\n",
    "\n",
    "# -----------------------------------------------\n",
    "# Wiring schema for the DMX TX\n",
    "\n",
    "pin_dmx_tx = Pin(15, Pin.OUT)  # send data to the DMX bus\n",
    "pin_dmx_rx = Pin(14, Pin.IN, pull=Pin.PULL_DOWN)  # receive data from the DMX bus\n",
    "sig_max485_send = Pin(12, Pin.OUT, Pin.PULL_DOWN)  # enable/disable the MAX485 chip\n",
    "\n",
    "p1 = Pin(1, Pin.OUT, value=0)  # Debugging aid to sync view on the the logic analyzer\n",
    "\n",
    "\n",
    "@asm_pio(\n",
    "    set_init=PIO.OUT_LOW,\n",
    "    sideset_init=PIO.OUT_LOW,\n",
    "    out_init=PIO.OUT_LOW,\n",
    "    # autopull=True,  # ?\n",
    "    out_shiftdir=PIO.SHIFT_RIGHT,  # ?\n",
    "    push_thresh=8,\n",
    ")\n",
    "# fmt: off\n",
    "def dmx_send():\n",
    "    \"\"\"\n",
    "    - valid values for the data channels are 0-255\n",
    "    Minimum universe length is 10 channels / slots\n",
    "\n",
    "    \n",
    "    The pio Statemachine must be reset before sending a new universe of data,\n",
    "    this will send the BREAK and the MAB signals\n",
    "    the universe is an bytearray of a 1 + 512 bytes\n",
    "    The first byte is the START_CODE , the next 512 bytes are the data channels\n",
    "    - the START_CODE is 0x00 for DMX Data Packets\n",
    "    - the START_CODE is 0xCC for RDM Data Packets\n",
    "    - the START_CODE is 0xFE for RDM Discovery Data Packets\n",
    "\n",
    "\n",
    "    \"\"\"\n",
    "    # Assert break condition\n",
    "    # Sender DMX break signal is 92us >, so we need to loop at least 92 / 8 = 12 times\n",
    "    # TODO: Actually should be at least 92us\n",
    "    set(x, 21)      .side(0)                # BREAK condition for 176us\n",
    "\n",
    "    label(\"breakloop\")                      # Loop X times, each loop iteration is 8 cycles.\n",
    "    jmp(x_dec, \"breakloop\")             [7] # Each loop iteration is 8 cycles.\n",
    "\n",
    "    nop()                    .side(1)   [7] # Assert MAB. 8 cycles nop and 8 cycles stop-bits = 16us\n",
    "\n",
    "    # Send data frame\n",
    "    wrap_target()\n",
    "    \n",
    "    pull()                   .side(1)   [7] # 2 STOP bits,  1 + 7 clocks,   or stall with line in idle state (extending MAB) \n",
    "    set(x, 7)                .side(0)   [3] # 1 START BIT  1 + 4 clocks load bit counter, assert start bit for 4 clocks\n",
    "\n",
    "    label(\"bitloop\")\n",
    "    out(pins, 1)                        [2]  # Shift 1 bit from OSR to the first OUT pin\n",
    "    jmp(x_dec, \"bitloop\")                    # Each loop iteration is 4 cycles.\n",
    "\n",
    "    wrap()\n",
    "# fmt: on\n",
    "\n",
    "\n",
    "# Usage example\n",
    "sm_dmx_tx = StateMachine(\n",
    "    1,\n",
    "    dmx_send,\n",
    "    freq=1_000_000,\n",
    "    set_base=pin_dmx_tx,\n",
    "    out_base=pin_dmx_tx,\n",
    "    sideset_base=pin_dmx_tx,\n",
    ")\n",
    "sm_dmx_tx.active(1)"
   ]
  },
  {
   "cell_type": "code",
   "execution_count": 6,
   "metadata": {},
   "outputs": [],
   "source": [
    "CAPTURE = False\n",
    "\n",
    "if CAPTURE:\n",
    "    # start capture\n",
    "\n",
    "    # setup logic capture\n",
    "    from saleae import automation\n",
    "\n",
    "\n",
    "    manager = automation.Manager.connect()\n",
    "\n",
    "    # setup logic capture on all channels\n",
    "\n",
    "    device_configuration = automation.LogicDeviceConfiguration(\n",
    "\n",
    "        enabled_digital_channels=[0, 1, 2, 3, 4, 5, 6, 7],\n",
    "\n",
    "        digital_sample_rate=12_000_000,\n",
    "\n",
    "    )\n",
    "\n",
    "    capture = manager.start_capture(device_configuration=device_configuration)"
   ]
  },
  {
   "cell_type": "code",
   "execution_count": 7,
   "metadata": {},
   "outputs": [],
   "source": [
    "# %%micropython  --select {SENDER} --no-follow\n",
    "p1.on()\n",
    "import time\n",
    "\n",
    "size = 512\n",
    "from array import array\n",
    "\n",
    "universe = array(\"B\", [0] + [255] * (size))  # 1 start code + 512 channels\n",
    "\n",
    "# print(f\"{len(universe)=} {universe=}\")\n",
    "\n",
    "for i in range(len(universe)):\n",
    "    universe[i] = i % 256\n",
    "\n",
    "universe[0] = 123  # test Start Code\n",
    "\n",
    "# for n in range(2):\n",
    "while 1:\n",
    "    sig_max485_send.on()\n",
    "    sm_dmx_tx.restart()\n",
    "    sm_dmx_tx.active(1)\n",
    "\n",
    "    sm_dmx_tx.put(universe)\n",
    "\n",
    "    time.sleep_us(4 * 50)  # wait for the last 4 frames to be sent before switching  the 485 driver\n",
    "    sig_max485_send.off()\n",
    "    time.sleep_ms(300)\n",
    "\n",
    "p1.off()"
   ]
  },
  {
   "cell_type": "code",
   "execution_count": 8,
   "metadata": {},
   "outputs": [],
   "source": [
    "if CAPTURE:\n",
    "    # End capture\n",
    "\n",
    "    capture.stop()\n",
    "\n",
    "    # \"Serial\", \"Accept DMX-1986 4us MAB\"\n",
    "\n",
    "    # Serial = input channel\n",
    "\n",
    "    capture.add_analyzer(\n",
    "        \"DMX-512\", label=\"DMX TX\", settings={\"Serial\": 2, \"Accept DMX-1986 4us MAB\": True}\n",
    "    )\n",
    "    capture.add_analyzer(\n",
    "        \"DMX-512\", label=\"DMX RX\", settings={\"Serial\": 6, \"Accept DMX-1986 4us MAB\": True}\n",
    "    )\n",
    "\n",
    "\n",
    "    # capture.add_analyzer(\"DMX-512-RX\", settings={\"Serial\": 4, \"Accept DMX-1986 4us MAB\": True})\n",
    "\n",
    "    # \"Input Channel\", \"Bit Rate (Bits/s)\", \"Bits per Frame\", \"Stop Bits\", \"Parity Bit\", \"Significant Bit\", \"Signal inversion\", \"Mode\"\n",
    "\n",
    "    # capture.add_analyzer(\"Async Serial\", settings={\"Input Channel\": 6, \"Bit Rate (Bits/s)\": 115200})"
   ]
  }
 ],
 "metadata": {
  "kernelspec": {
   "display_name": ".venv",
   "language": "python",
   "name": "python3"
  },
  "language_info": {
   "codemirror_mode": {
    "name": "ipython",
    "version": 3
   },
   "file_extension": ".py",
   "mimetype": "text/x-python",
   "name": "python",
   "nbconvert_exporter": "python",
   "pygments_lexer": "ipython3",
   "version": "3.11.6"
  }
 },
 "nbformat": 4,
 "nbformat_minor": 2
}
