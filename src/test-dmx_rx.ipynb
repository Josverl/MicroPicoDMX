{
 "cells": [
  {
   "cell_type": "markdown",
   "metadata": {},
   "source": [
    "## DMX Receiver"
   ]
  },
  {
   "cell_type": "code",
   "execution_count": 1,
   "metadata": {},
   "outputs": [],
   "source": [
    "# devices = %mpy --list\n",
    "# ports = devices.fields(0)\n",
    "\n",
    "# for port in ports:\n",
    "#     s = %mpy --info --select {port}\n",
    "#     print(s)\n",
    "\n",
    "PICO = 'COM15'\n",
    "PICO_W = 'COM4'\n",
    "\n",
    "SENDER = PICO\n",
    "RECEIVER = PICO_W\n",
    "\n",
    "\n",
    "%mpy --select {RECEIVER}"
   ]
  },
  {
   "cell_type": "code",
   "execution_count": 2,
   "metadata": {},
   "outputs": [],
   "source": [
    "from typing_extensions import TYPE_CHECKING  # type: ignore\n",
    "\n",
    "if TYPE_CHECKING:\n",
    "    from rp2.asm_pio import *"
   ]
  },
  {
   "cell_type": "code",
   "execution_count": 3,
   "metadata": {},
   "outputs": [
    {
     "name": "stdout",
     "output_type": "stream",
     "text": [
      "True\n"
     ]
    }
   ],
   "source": [
    "# %%micropython --select {RECEIVER} --reset\n",
    "from rp2 import PIO\n",
    "from machine import Pin\n",
    "\n",
    "# remove all programs from both PIOs\n",
    "for n in (0, 1):\n",
    "    pio = PIO(n)\n",
    "    pio.remove_program()\n",
    "\n",
    "led = Pin(\"LED\", Pin.OUT)\n",
    "led.on()"
   ]
  },
  {
   "cell_type": "code",
   "execution_count": 4,
   "metadata": {},
   "outputs": [],
   "source": [
    "# %%micropython\n",
    "from machine import Pin, Signal\n",
    "\n",
    "sig_max485_send = Signal(Pin(13, Pin.OUT, Pin.PULL_DOWN))\n",
    "\n",
    "sig_max485_send.off()"
   ]
  },
  {
   "cell_type": "code",
   "execution_count": 5,
   "metadata": {},
   "outputs": [],
   "source": [
    "# %%micropython\n",
    "\n",
    "from machine import Pin, Signal\n",
    "from rp2 import PIO, StateMachine, asm_pio\n",
    "\n",
    "# -----------------------------------------------\n",
    "# Wiring schema for the DMX TX\n",
    "\n",
    "pin_dmx_tx = Pin(15, Pin.OUT)  # send data to the DMX bus\n",
    "pin_dmx_rx = Pin(14, Pin.IN, pull=Pin.PULL_DOWN)  # receive data from the DMX bus\n",
    "sig_max485_send = Pin(12, Pin.OUT, Pin.PULL_DOWN)  # enable/disable the MAX485 chip\n",
    "\n",
    "# fmt: off\n",
    "@asm_pio()\n",
    "def dmx_receive():\n",
    "    \"\"\"PIO program to receive a DMX Universe frame of 512 channels.\"\"\"\n",
    "    # Constants\n",
    "    dmx_bit = 4  # As DMX has a baudrate of 250.000kBaud, a single bit is 4us\n",
    "\n",
    "    # Break loop\n",
    "    # Receiver DMX break signal is 88us, so we need to loop 22 times to get 88us\n",
    "    label(\"break_reset\")\n",
    "    set(x, 29)                              # 0\n",
    "\n",
    "    label(\"break_loop\")                     # BREAK = low for 88us\n",
    "    jmp(pin, \"break_reset\")                 # 1 | Go back to start if pin goes high during BREAK\n",
    "    jmp(x_dec, \"break_loop\")        [1]     # 2 | wait until BREAK time over (22 loops * 4us = 88us)\n",
    "    \n",
    "    wait(1, pin, 0)                         # 3 | wait for the Mark-After-Break (MAB)\n",
    "    # TODO check if MAB is at least 8us long\n",
    "\n",
    "    # Data loop\n",
    "    label(\"wrap_target\")                    # Start of a byte\n",
    "    wait(1, pin, 0)                     [1] # 4 | Wait for START bit (low) + 1+1us - measure halfway through the bit\n",
    "    set(x, 7)                   [dmx_bit-1] # 5 | 7 more bits \n",
    "\n",
    "    label(\"bitloop\")\n",
    "    in_(pins, 1)                            # 6 Shift data bit into ISR\n",
    "    jmp(x_dec, \"bitloop\")    [dmx_bit - 2]  # 7 Loop 8 times, each loop iteration is 4us\n",
    "\n",
    "    # Stop bits\n",
    "    wait(1, pin, 0)                         # 8 Wait for pin to go high for stop bits\n",
    "    # TODO check if STOP bits are at 8us long\n",
    "    # if longer than 8 us then we are at the end of the frame  MARK Time after Slot 512\n",
    "    # this can be up to  1 second - which may be too long for a PIO program to count\n",
    "    \n",
    "    push()                                  # 9\n",
    "\n",
    "# fmt: on\n",
    "\n"
   ]
  },
  {
   "cell_type": "code",
   "execution_count": 8,
   "metadata": {},
   "outputs": [
    {
     "name": "stdout",
     "output_type": "stream",
     "text": [
      "10 opcodes assembled\n"
     ]
    },
    {
     "data": {
      "text/plain": [
       "'0xe03d, 0xc0, 0x141, 0x20a0, 0x21a0, 0xe327, 0x4001, 0x246, 0x20a0, 0x8020'"
      ]
     },
     "execution_count": 8,
     "metadata": {},
     "output_type": "execute_result"
    }
   ],
   "source": [
    "# This is a Q&D way to get the PIO opcodes from the PIO assembler using an attached rp2 with micropython\n",
    "from array import array\n",
    "x = %mpy print(dmx_receive)\n",
    "asm_pio = eval(str(x[0])) # first line of the output is the PIO program, with parameters\n",
    "assembled = asm_pio[0] # just the opcodes \n",
    "print(f\"{len(assembled)} opcodes assembled\")\n",
    "\n",
    "\", \".join([hex(opcode) for opcode in assembled])"
   ]
  },
  {
   "cell_type": "code",
   "execution_count": null,
   "metadata": {},
   "outputs": [],
   "source": [
    "\n",
    "machine_nr = 1\n",
    "sm_dmx_rx = StateMachine(\n",
    "    machine_nr, dmx_receive, freq=1_000_000, in_base=pin_dmx_rx, jmp_pin=pin_dmx_rx\n",
    ")\n",
    "sm_dmx_rx.active(1)"
   ]
  },
  {
   "cell_type": "code",
   "execution_count": null,
   "metadata": {},
   "outputs": [],
   "source": [
    "# %%micropython\n",
    "# create buffer to receive the DMX data into\n",
    "size = 512\n",
    "from array import array\n",
    "\n",
    "universe = array(\"B\", [0] + [0] * (size))  # 1 start code + 512 channels"
   ]
  },
  {
   "cell_type": "code",
   "execution_count": null,
   "metadata": {},
   "outputs": [],
   "source": [
    "# %%micropython\n",
    "\n",
    "sm_dmx_rx.restart()\n",
    "\n",
    "for _ in range(512):\n",
    "    r = sm_dmx_rx.get(None, 24)  # get the first byte, which is the start code\n",
    "    print(f\"{r=:X}\")"
   ]
  },
  {
   "cell_type": "code",
   "execution_count": null,
   "metadata": {},
   "outputs": [],
   "source": [
    "CAPTURE = False\n",
    "\n",
    "if CAPTURE:\n",
    "    # start capture\n",
    "\n",
    "    # setup logic capture\n",
    "    from saleae import automation\n",
    "\n",
    "\n",
    "    manager = automation.Manager.connect()\n",
    "\n",
    "    # setup logic capture on all channels\n",
    "\n",
    "    device_configuration = automation.LogicDeviceConfiguration(\n",
    "\n",
    "        enabled_digital_channels=[0, 1, 2, 3, 4, 5, 6, 7],\n",
    "\n",
    "        digital_sample_rate=12_000_000,\n",
    "\n",
    "    )\n",
    "\n",
    "    capture = manager.start_capture(device_configuration=device_configuration)"
   ]
  },
  {
   "cell_type": "code",
   "execution_count": null,
   "metadata": {},
   "outputs": [],
   "source": [
    "# %%micropython\n",
    "p1.on()\n",
    "import time\n",
    "\n",
    "size = 512\n",
    "from array import array\n",
    "\n",
    "universe = array(\"B\", [0] + [255] * (size))  # 1 start code + 512 channels\n",
    "\n",
    "# print(f\"{len(universe)=} {universe=}\")\n",
    "\n",
    "for i in range(len(universe)):\n",
    "    universe[i] = i % 256\n",
    "\n",
    "universe[0] = 123  # test Start Code\n",
    "\n",
    "for n in range(2):\n",
    "    sig_max485_send.on()\n",
    "    sm_dmx_tx.restart()\n",
    "    sm_dmx_tx.active(1)\n",
    "\n",
    "    sm_dmx_tx.put(universe)\n",
    "\n",
    "    time.sleep_us(4 * 50)  # wait for the last 4 frames to be sent before switching  the 485 driver\n",
    "    sig_max485_send.off()\n",
    "\n",
    "p1.off()"
   ]
  },
  {
   "cell_type": "code",
   "execution_count": null,
   "metadata": {},
   "outputs": [],
   "source": [
    "CAPTURE = False\n",
    "\n",
    "if CAPTURE:\n",
    "    # End capture\n",
    "\n",
    "    capture.stop()\n",
    "\n",
    "    # \"Serial\", \"Accept DMX-1986 4us MAB\"\n",
    "\n",
    "    # Serial = input channel\n",
    "\n",
    "    capture.add_analyzer(\"DMX-512\", settings={\"Serial\": 5, \"Accept DMX-1986 4us MAB\": True})\n",
    "\n",
    "    capture.add_analyzer(\n",
    "\n",
    "        \"DMX-512\", settings={\"Serial\": 3, \"Accept DMX-1986 4us MAB\": True}, label=\"Tx-Shifter\"\n",
    "\n",
    "    )\n",
    "\n",
    "    capture.add_analyzer(\n",
    "\n",
    "        \"DMX-512\", settings={\"Serial\": 6, \"Accept DMX-1986 4us MAB\": True}, label=\"Tx-Shifter-2\"\n",
    "\n",
    "    )\n",
    "\n",
    "    # capture.add_analyzer(\"DMX-512-RX\", settings={\"Serial\": 4, \"Accept DMX-1986 4us MAB\": True})\n",
    "\n",
    "    # \"Input Channel\", \"Bit Rate (Bits/s)\", \"Bits per Frame\", \"Stop Bits\", \"Parity Bit\", \"Significant Bit\", \"Signal inversion\", \"Mode\"\n",
    "\n",
    "    # capture.add_analyzer(\"Async Serial\", settings={\"Input Channel\": 6, \"Bit Rate (Bits/s)\": 115200})"
   ]
  }
 ],
 "metadata": {
  "kernelspec": {
   "display_name": ".venv",
   "language": "python",
   "name": "python3"
  },
  "language_info": {
   "codemirror_mode": {
    "name": "ipython",
    "version": 3
   },
   "file_extension": ".py",
   "mimetype": "text/x-python",
   "name": "python",
   "nbconvert_exporter": "python",
   "pygments_lexer": "ipython3",
   "version": "3.11.6"
  }
 },
 "nbformat": 4,
 "nbformat_minor": 2
}
