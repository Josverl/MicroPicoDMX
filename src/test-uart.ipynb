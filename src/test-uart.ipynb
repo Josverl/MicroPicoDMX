{
 "cells": [
  {
   "cell_type": "code",
   "execution_count": 1,
   "metadata": {
    "vscode": {
     "languageId": "powershell"
    }
   },
   "outputs": [
    {
     "data": {
      "text/plain": [
       "{'ver': 'v1.21.0',\n",
       " 'version': '1.21.0',\n",
       " 'port': 'rp2',\n",
       " 'mpy': 'v6.1',\n",
       " 'build': '',\n",
       " 'cpu': 'RP2040',\n",
       " 'family': 'micropython',\n",
       " 'board': 'Raspberry Pi Pico W with RP2040',\n",
       " 'arch': 'armv6m',\n",
       " 'serial_port': 'auto'}"
      ]
     },
     "execution_count": 1,
     "metadata": {},
     "output_type": "execute_result"
    }
   ],
   "source": [
    "%micropython --info"
   ]
  },
  {
   "cell_type": "code",
   "execution_count": 7,
   "metadata": {
    "vscode": {
     "languageId": "powershell"
    }
   },
   "outputs": [],
   "source": [
    "\n"
   ]
  },
  {
   "cell_type": "code",
   "execution_count": 3,
   "metadata": {},
   "outputs": [],
   "source": [
    "from typing_extensions import TYPE_CHECKING  # type: ignore\n",
    "\n",
    "if TYPE_CHECKING:\n",
    "    from rp2.asm_pio import *"
   ]
  },
  {
   "cell_type": "code",
   "execution_count": 4,
   "metadata": {},
   "outputs": [],
   "source": [
    "# %%micropython\n",
    "from rp2 import PIO\n",
    "\n",
    "# remove all programs from both PIOs\n",
    "for n in (0, 1):\n",
    "    pio = PIO(n)\n",
    "    pio.remove_program()"
   ]
  },
  {
   "cell_type": "code",
   "execution_count": 5,
   "metadata": {},
   "outputs": [],
   "source": [
    "# %%micropython\n",
    "# Example using PIO to create a UART TX interface\n",
    "\n",
    "from machine import Pin\n",
    "from rp2 import PIO, StateMachine, asm_pio\n",
    "\n",
    "UART_BAUD = 115200\n",
    "PIN_BASE = 10\n",
    "NUM_UARTS = 8\n",
    "\n",
    "\n",
    "@asm_pio(\n",
    "    sideset_init=PIO.OUT_HIGH,\n",
    "    out_init=PIO.OUT_HIGH,\n",
    "    out_shiftdir=PIO.SHIFT_RIGHT,\n",
    ")\n",
    "# fmt: off\n",
    "def uart_tx():\n",
    "    # Block with TX deasserted until data available\n",
    "    pull()\n",
    "    # Initialise bit counter, assert start bit for 8 cycles\n",
    "    set(x, 7)  .side(0)       [7]\n",
    "    # Shift out 8 data bits, 8 execution cycles per bit\n",
    "    label(\"bitloop\")\n",
    "    out(pins, 1)              [6]\n",
    "    jmp(x_dec, \"bitloop\")\n",
    "    # Assert stop bit for 8 cycles total (incl 1 for pull())\n",
    "    nop()      .side(1)       [6]\n",
    "# fmt: on\n",
    "\n",
    "i = 0\n",
    "sm = StateMachine(\n",
    "    7, uart_tx, freq=8 * UART_BAUD, sideset_base=Pin(PIN_BASE + i), out_base=Pin(PIN_BASE + i)\n",
    ")\n",
    "sm.active(1)\n",
    "\n",
    "\n",
    "# We can print characters from each UART by pushing them to the TX FIFO\n",
    "def pio_uart_print(sm, s):\n",
    "    # for c in s:\n",
    "    #     sm.put(ord(c))\n",
    "    sm.put(s)\n",
    "\n",
    "\n",
    "# import time\n",
    "# while 1:\n",
    "#     print(\"en weer\")\n",
    "#     pio_uart_print(sm, \"Hello from UART 0\")\n",
    "#     time.sleep(1)"
   ]
  },
  {
   "cell_type": "code",
   "execution_count": 15,
   "metadata": {},
   "outputs": [],
   "source": [
    "# start capture\n",
    "# setup logic capture \n",
    "from saleae import automation\n",
    "manager = automation.Manager.connect()\n",
    "# setup logic capture on all channels\n",
    "device_configuration = automation.LogicDeviceConfiguration(\n",
    "    enabled_digital_channels=[0,1,2,3,4,5,6,7],\n",
    "    digital_sample_rate=12_000_000,\n",
    ")\n",
    "capture = manager.start_capture(device_configuration=device_configuration)"
   ]
  },
  {
   "cell_type": "code",
   "execution_count": 16,
   "metadata": {},
   "outputs": [],
   "source": [
    "# %%micropython\n",
    "import time\n",
    "\n",
    "\n",
    "\n",
    "for i in range(10):\n",
    "    # print(\"en weer\")\n",
    "    pio_uart_print(sm, f\"Hello {i} from UART {str(sm)}\\n\")\n",
    "    time.sleep(0.1)"
   ]
  },
  {
   "cell_type": "code",
   "execution_count": 17,
   "metadata": {},
   "outputs": [
    {
     "data": {
      "text/plain": [
       "AnalyzerHandle(analyzer_id=10093)"
      ]
     },
     "execution_count": 17,
     "metadata": {},
     "output_type": "execute_result"
    }
   ],
   "source": [
    "# End capture\n",
    "capture.stop()\n",
    "# \"Input Channel\", \"Bit Rate (Bits/s)\", \"Bits per Frame\", \"Stop Bits\", \"Parity Bit\", \"Significant Bit\", \"Signal inversion\", \"Mode\"\n",
    "capture.add_analyzer(\"Async Serial\", settings={\"Input Channel\": 6, \"Bit Rate (Bits/s)\": 115200})\n",
    "capture.add_analyzer(\"Async Serial\", settings={\"Input Channel\": 1, \"Bit Rate (Bits/s)\": 115200})"
   ]
  }
 ],
 "metadata": {
  "kernelspec": {
   "display_name": ".venv",
   "language": "python",
   "name": "python3"
  },
  "language_info": {
   "codemirror_mode": {
    "name": "ipython",
    "version": 3
   },
   "file_extension": ".py",
   "mimetype": "text/x-python",
   "name": "python",
   "nbconvert_exporter": "python",
   "pygments_lexer": "ipython3",
   "version": "3.11.6"
  }
 },
 "nbformat": 4,
 "nbformat_minor": 2
}
